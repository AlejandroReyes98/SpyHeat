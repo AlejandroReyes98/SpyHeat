{
 "cells": [
  {
   "cell_type": "code",
   "execution_count": 162,
   "metadata": {},
   "outputs": [],
   "source": [
    "import numpy as np\n",
    "import matplotlib.pyplot as plt\n",
    "from mpl_toolkits.axes_grid1 import make_axes_locatable"
   ]
  },
  {
   "cell_type": "markdown",
   "metadata": {},
   "source": [
    "## Malla y arreglos escalares y vectoriales para Diferencias Finitas"
   ]
  },
  {
   "cell_type": "code",
   "execution_count": 264,
   "metadata": {},
   "outputs": [],
   "source": [
    "# Parámetros numéricos\n",
    "Nx = 3\n",
    "Ny = 4\n",
    "Lx = 1.0\n",
    "Ly = 2.0\n",
    "hx = Lx / (Nx + 1)\n",
    "hy = Ly / (Ny + 1)\n",
    "\n",
    "# Campos escalar (un solo valor por nodo)\n",
    "T = np.zeros((Ny+2, Nx + 2))\n",
    "\n",
    "# Campos vectorial (en este caso dos valores por nodo)\n",
    "v = np.zeros((2, Ny+2, Nx+2))"
   ]
  },
  {
   "cell_type": "code",
   "execution_count": 267,
   "metadata": {},
   "outputs": [],
   "source": [
    "# Asignación de valores a los arreglos\n",
    "\n",
    "TL = 10\n",
    "TR = 20\n",
    "TB = 30\n",
    "TT = 40\n",
    "\n",
    "# Condiciones de frontera\n",
    "T[:,0] = TL  # LEFT\n",
    "T[:,-1] = TR # RIGHT\n",
    "T[0,:] = TT # TOP\n",
    "T[-1,:] = TB # BOTTOM\n",
    "\n",
    "# Coordenadas de la malla\n",
    "xg, yg =np.meshgrid(np.linspace(0,Lx,Nx+2),\n",
    "                    np.linspace(0,Ly,Ny+2))\n",
    "\n",
    "# Definición del campo vectorial (velocidad)\n",
    "A = 1.0\n",
    "alpha_x = 1.0\n",
    "alpha_y = 0.5\n",
    "v[0] = -A * np.cos(np.pi * alpha_y * yg) * np.sin(np.pi * alpha_x * xg)\n",
    "v[1] =  A * np.sin(np.pi * alpha_y * yg) * np.cos(np.pi * alpha_x * xg)"
   ]
  },
  {
   "cell_type": "code",
   "execution_count": 268,
   "metadata": {},
   "outputs": [
    {
     "name": "stdout",
     "output_type": "stream",
     "text": [
      "T = \n",
      "[[40. 40. 40. 40. 40.]\n",
      " [10.  0.  0.  0. 20.]\n",
      " [10.  0.  0.  0. 20.]\n",
      " [10.  0.  0.  0. 20.]\n",
      " [10.  0.  0.  0. 20.]\n",
      " [30. 30. 30. 30. 30.]]\n",
      "v = \n",
      "[[[-0.00000000e+00 -7.07106781e-01 -1.00000000e+00 -7.07106781e-01\n",
      "   -1.22464680e-16]\n",
      "  [-0.00000000e+00 -5.72061403e-01 -8.09016994e-01 -5.72061403e-01\n",
      "   -9.90760073e-17]\n",
      "  [-0.00000000e+00 -2.18508012e-01 -3.09016994e-01 -2.18508012e-01\n",
      "   -3.78436673e-17]\n",
      "  [ 0.00000000e+00  2.18508012e-01  3.09016994e-01  2.18508012e-01\n",
      "    3.78436673e-17]\n",
      "  [ 0.00000000e+00  5.72061403e-01  8.09016994e-01  5.72061403e-01\n",
      "    9.90760073e-17]\n",
      "  [ 0.00000000e+00  7.07106781e-01  1.00000000e+00  7.07106781e-01\n",
      "    1.22464680e-16]]\n",
      "\n",
      " [[ 0.00000000e+00  0.00000000e+00  0.00000000e+00 -0.00000000e+00\n",
      "   -0.00000000e+00]\n",
      "  [ 5.87785252e-01  4.15626938e-01  3.59914664e-17 -4.15626938e-01\n",
      "   -5.87785252e-01]\n",
      "  [ 9.51056516e-01  6.72498512e-01  5.82354159e-17 -6.72498512e-01\n",
      "   -9.51056516e-01]\n",
      "  [ 9.51056516e-01  6.72498512e-01  5.82354159e-17 -6.72498512e-01\n",
      "   -9.51056516e-01]\n",
      "  [ 5.87785252e-01  4.15626938e-01  3.59914664e-17 -4.15626938e-01\n",
      "   -5.87785252e-01]\n",
      "  [ 1.22464680e-16  8.65956056e-17  7.49879891e-33 -8.65956056e-17\n",
      "   -1.22464680e-16]]]\n"
     ]
    }
   ],
   "source": [
    "print('T = ', T, 'v = ', v, sep='\\n')"
   ]
  },
  {
   "cell_type": "code",
   "execution_count": 269,
   "metadata": {},
   "outputs": [],
   "source": [
    "# Función para personalizar los ejes\n",
    "def axisCustomizer(ax, titulo, im = None):\n",
    "    ax.set_xlim(-hx,Lx+hx)\n",
    "    ax.set_ylim(-hy,Ly+hy)\n",
    "    ax.set_xticks([0,Lx])\n",
    "    ax.set_yticks([0,Ly])\n",
    "    ax.set_title(titulo)\n",
    "    ax.grid()\n",
    "    ax.set_aspect('equal')\n",
    "    divider = make_axes_locatable(ax)\n",
    "    cax = divider.append_axes(\"right\", \"5%\", pad=\"3%\")\n",
    "    cax.set_xticks([])\n",
    "    cax.set_yticks([])\n",
    "    if im != None:\n",
    "        fig.colorbar(im, cax=cax, ticks=[TL,TR,TB,TT], orientation='vertical')"
   ]
  },
  {
   "cell_type": "code",
   "execution_count": 271,
   "metadata": {},
   "outputs": [
    {
     "data": {
      "image/png": "[encoded data removed]",
      "text/plain": [
       "<Figure size 720x1440 with 6 Axes>"
      ]
     },
     "metadata": {
      "needs_background": "light"
     },
     "output_type": "display_data"
    }
   ],
   "source": [
    "# Graficación de los puntos de la malla, T y v\n",
    "fig, (ax1, ax2, ax3) = plt.subplots(1,3, sharey='row', figsize=(10,20),\n",
    "                        gridspec_kw={'hspace': 0, 'wspace': 0.2})\n",
    "ax1.scatter(xg, yg)\n",
    "axisCustomizer(ax1, 'Malla')    \n",
    "\n",
    "im = ax2.imshow(T, extent=[0,Lx,0,Ly], cmap='viridis')\n",
    "axisCustomizer(ax2, 'T (escalar)', im)\n",
    "\n",
    "ax3.quiver(xg, yg, v[0], v[1], scale=5)\n",
    "axisCustomizer(ax3, 'v (vectorial)')"
   ]
  },
  {
   "cell_type": "markdown",
   "metadata": {},
   "source": [
    "## Malla y arreglos escalares y vectoriales para Volumen Finito"
   ]
  },
  {
   "cell_type": "code",
   "execution_count": 272,
   "metadata": {},
   "outputs": [],
   "source": [
    "# Parámetros numéricos\n",
    "Nvx = 4\n",
    "Nvy = 5\n",
    "Lx = 1.0\n",
    "Ly = 2.0\n",
    "# Ajuste de los nodos\n",
    "Nx = Nvx - 1\n",
    "Ny = Nvy - 1\n",
    "hx = Lx / (Nx + 1)\n",
    "hy = Ly / (Ny + 1)\n",
    "\n",
    "# Campos escalar (un solo valor por nodo)\n",
    "T = np.zeros((Nvy + 2, Nvx + 2))\n",
    "\n",
    "# Campos vectorial (en este caso dos valores por nodo)\n",
    "v = np.zeros((2, Nvy + 2, Nvx + 2))\n",
    "\n",
    "#print('T = ', T, 'v = ', v, sep='\\n')"
   ]
  },
  {
   "cell_type": "code",
   "execution_count": 273,
   "metadata": {},
   "outputs": [],
   "source": [
    "# Asignación de valores a los arreglos\n",
    "\n",
    "TL = 10\n",
    "TR = 20\n",
    "TB = 30\n",
    "TT = 40\n",
    "\n",
    "# Condiciones de frontera\n",
    "T[:,0] = TL  # LEFT\n",
    "T[:,-1] = TR # RIGHT\n",
    "T[0,:] = TT # TOP\n",
    "T[-1,:] = TB # BOTTOM\n",
    "\n",
    "# Coordenadas de la malla\n",
    "x = np.zeros(Nvx + 2)\n",
    "y = np.zeros(Nvy + 2)\n",
    "x[-1] = Lx\n",
    "y[-1] = Ly\n",
    "\n",
    "x[1:-1] = np.linspace(0.5*hx,Lx-0.5*hx,Nvx)\n",
    "y[1:-1] = np.linspace(0.5*hy,Ly-0.5*hy,Nvy)\n",
    "\n",
    "xg, yg =np.meshgrid(x, y)\n",
    "\n",
    "# Definición del campo vectorial (velocidad)\n",
    "A = 1.0\n",
    "alpha_x = 1.0\n",
    "alpha_y = 0.5\n",
    "v[0] = -A * np.cos(np.pi * alpha_y * yg) * np.sin(np.pi * alpha_x * xg)\n",
    "v[1] =  A * np.sin(np.pi * alpha_y * yg) * np.cos(np.pi * alpha_x * xg)"
   ]
  },
  {
   "cell_type": "code",
   "execution_count": 278,
   "metadata": {},
   "outputs": [
    {
     "data": {
      "image/png": "[encoded data removed]",
      "text/plain": [
       "<Figure size 720x720 with 6 Axes>"
      ]
     },
     "metadata": {
      "needs_background": "light"
     },
     "output_type": "display_data"
    }
   ],
   "source": [
    "# Graficación de los puntos de la malla, T y v\n",
    "fig, (ax1, ax2, ax3) = plt.subplots(1,3, sharey='row', figsize=(10,10),\n",
    "                        gridspec_kw={'hspace': 0, 'wspace': 0.2})\n",
    "ax1.scatter(xg, yg)\n",
    "axisCustomizer(ax1, 'Malla')    \n",
    "\n",
    "im = ax2.imshow(T, extent=[0,Lx,0,Ly], cmap='viridis')\n",
    "axisCustomizer(ax2, 'T (escalar)', im)\n",
    "\n",
    "ax3.quiver(xg, yg, v[0], v[1], scale=5)\n",
    "axisCustomizer(ax3, 'v (vectorial)')"
   ]
  },
  {
   "cell_type": "code",
   "execution_count": null,
   "metadata": {},
   "outputs": [],
   "source": []
  }
 ],
 "metadata": {
  "kernelspec": {
   "display_name": "Python 3",
   "language": "python",
   "name": "python3"
  },
  "language_info": {
   "codemirror_mode": {
    "name": "ipython",
    "version": 3
   },
   "file_extension": ".py",
   "mimetype": "text/x-python",
   "name": "python",
   "nbconvert_exporter": "python",
   "pygments_lexer": "ipython3",
   "version": "3.8.5"
  }
 },
 "nbformat": 4,
 "nbformat_minor": 4
}
